{
 "cells": [
  {
   "cell_type": "code",
   "execution_count": 9,
   "metadata": {},
   "outputs": [
    {
     "name": "stdout",
     "output_type": "stream",
     "text": [
      "Holi is a festival celebrated by Hindus around the world. Holi marks the beginning of spring, and is usually celebrated at the end of February or early March. Participants in a Holi festival often throw brightly colored powder and scented water at each other.\n",
      "Exemplo de Título\n",
      "entrando\n",
      "Concepts Embeddings: \n"
     ]
    },
    {
     "ename": "FileNotFoundError",
     "evalue": "[Errno 2] No such file or directory: './works.txt'",
     "output_type": "error",
     "traceback": [
      "\u001b[1;31m---------------------------------------------------------------------------\u001b[0m",
      "\u001b[1;31mFileNotFoundError\u001b[0m                         Traceback (most recent call last)",
      "\u001b[1;32mc:\\Users\\milen\\OneDrive\\Documentos\\GitHub\\Chat_ibict\\Progressao\\paginas\\teste2.ipynb Cell 1\u001b[0m line \u001b[0;36m1\n\u001b[0;32m      <a href='vscode-notebook-cell:/c%3A/Users/milen/OneDrive/Documentos/GitHub/Chat_ibict/Progressao/paginas/teste2.ipynb#W0sZmlsZQ%3D%3D?line=8'>9</a>\u001b[0m data_teste \u001b[39m=\u001b[39m Data(title\u001b[39m=\u001b[39mtitulo_teste, abstract\u001b[39m=\u001b[39mabstract_teste)\n\u001b[0;32m     <a href='vscode-notebook-cell:/c%3A/Users/milen/OneDrive/Documentos/GitHub/Chat_ibict/Progressao/paginas/teste2.ipynb#W0sZmlsZQ%3D%3D?line=10'>11</a>\u001b[0m \u001b[39m# Chama a função get_works com o objeto data_teste\u001b[39;00m\n\u001b[1;32m---> <a href='vscode-notebook-cell:/c%3A/Users/milen/OneDrive/Documentos/GitHub/Chat_ibict/Progressao/paginas/teste2.ipynb#W0sZmlsZQ%3D%3D?line=11'>12</a>\u001b[0m tags_resultantes \u001b[39m=\u001b[39m get_works(data_teste)\n\u001b[0;32m     <a href='vscode-notebook-cell:/c%3A/Users/milen/OneDrive/Documentos/GitHub/Chat_ibict/Progressao/paginas/teste2.ipynb#W0sZmlsZQ%3D%3D?line=12'>13</a>\u001b[0m \u001b[39mprint\u001b[39m(tags_resultantes)\n",
      "File \u001b[1;32m~\\OneDrive\\Documentos\\GitHub\\Chat_ibict\\Progressao\\englishBackend\\main.py:43\u001b[0m, in \u001b[0;36mget_works\u001b[1;34m(data)\u001b[0m\n\u001b[0;32m     41\u001b[0m \u001b[39mprint\u001b[39m(data\u001b[39m.\u001b[39mtitle)\n\u001b[0;32m     42\u001b[0m concepts \u001b[39m=\u001b[39m get_remote_works(data\u001b[39m.\u001b[39mtitle, data\u001b[39m.\u001b[39mabstract)\n\u001b[1;32m---> 43\u001b[0m \u001b[39mreturn\u001b[39;00m get_concepts_embeddings(concepts)\n",
      "File \u001b[1;32m~\\OneDrive\\Documentos\\GitHub\\Chat_ibict\\Progressao\\englishBackend\\main.py:147\u001b[0m, in \u001b[0;36mget_concepts_embeddings\u001b[1;34m(concepts)\u001b[0m\n\u001b[0;32m    145\u001b[0m journals_count \u001b[39m=\u001b[39m {}\n\u001b[0;32m    146\u001b[0m acc \u001b[39m=\u001b[39m \u001b[39m0\u001b[39m\n\u001b[1;32m--> 147\u001b[0m \u001b[39mwith\u001b[39;00m \u001b[39mopen\u001b[39;49m(\u001b[39m\"\u001b[39;49m\u001b[39m./works.txt\u001b[39;49m\u001b[39m\"\u001b[39;49m,\u001b[39m'\u001b[39;49m\u001b[39mr\u001b[39;49m\u001b[39m'\u001b[39;49m) \u001b[39mas\u001b[39;00m data_file:\n\u001b[0;32m    148\u001b[0m     \u001b[39mfor\u001b[39;00m line \u001b[39min\u001b[39;00m data_file:\n\u001b[0;32m    149\u001b[0m         work_words \u001b[39m=\u001b[39m \u001b[39m'\u001b[39m\u001b[39m'\u001b[39m\n",
      "\u001b[1;31mFileNotFoundError\u001b[0m: [Errno 2] No such file or directory: './works.txt'"
     ]
    }
   ],
   "source": [
    "import sys\n",
    "sys.path.append('C:\\\\Users\\\\milen\\\\OneDrive\\\\Documentos\\\\GitHub\\\\Chat_ibict\\\\Progressao')\n",
    "from englishBackend.main import get_works, Data\n",
    "\n",
    "titulo_teste = \"Exemplo de Título\"\n",
    "abstract_teste = \"Holi is a festival celebrated by Hindus around the world. Holi marks the beginning of spring, and is usually celebrated at the end of February or early March. Participants in a Holi festival often throw brightly colored powder and scented water at each other.\"\n",
    "\n",
    "# Cria uma instância da classe Data\n",
    "data_teste = Data(title=titulo_teste, abstract=abstract_teste)\n",
    "\n",
    "# Chama a função get_works com o objeto data_teste\n",
    "tags_resultantes = get_works(data_teste)\n",
    "print(tags_resultantes)\n"
   ]
  },
  {
   "cell_type": "code",
   "execution_count": null,
   "metadata": {},
   "outputs": [],
   "source": []
  }
 ],
 "metadata": {
  "kernelspec": {
   "display_name": "Python 3",
   "language": "python",
   "name": "python3"
  },
  "language_info": {
   "codemirror_mode": {
    "name": "ipython",
    "version": 3
   },
   "file_extension": ".py",
   "mimetype": "text/x-python",
   "name": "python",
   "nbconvert_exporter": "python",
   "pygments_lexer": "ipython3",
   "version": "3.10.6"
  }
 },
 "nbformat": 4,
 "nbformat_minor": 2
}
