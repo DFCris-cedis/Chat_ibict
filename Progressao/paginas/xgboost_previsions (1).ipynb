{
 "cells": [
  {
   "cell_type": "code",
   "execution_count": null,
   "id": "f38a5a95",
   "metadata": {},
   "outputs": [],
   "source": [
    "from sklearn.preprocessing import LabelEncoder\n",
    "from xgboost import XGBClassifier\n",
    "import pandas as pd\n",
    "import warnings\n",
    "import joblib\n",
    "import h2o"
   ]
  },
  {
   "cell_type": "code",
   "execution_count": null,
   "id": "bb792f00-2fa6-40c7-a3af-dd004b616c5d",
   "metadata": {},
   "outputs": [],
   "source": [
    "warnings.simplefilter(\"ignore\")"
   ]
  },
  {
   "cell_type": "code",
   "execution_count": null,
   "id": "9ff4fe43-72a6-498a-b56a-19bec06f03bd",
   "metadata": {},
   "outputs": [],
   "source": [
    "def prevNN(abstract):\n",
    "    localH2o = h2o.init(nthreads = -1)\n",
    "    \n",
    "    Modelo = h2o.load_model('Modelos/DeepLearning_model_R_1670582405235_1')\n",
    "    prevNN = Modelo.predict(h2o.H2OFrame(abstract))\n",
    "    \n",
    "    return prevNN[0, 0]"
   ]
  },
  {
   "cell_type": "code",
   "execution_count": null,
   "id": "e45da47b-6e6f-4a8b-a36f-a9da45883edf",
   "metadata": {},
   "outputs": [],
   "source": [
    "def prevXGB(abstract, path_modelo):\n",
    "    modelo = joblib.load(path_modelo)\n",
    "    prevXGB = modelo.predict(abstract)\n",
    "\n",
    "    return prevXGB"
   ]
  },
  {
   "cell_type": "code",
   "execution_count": null,
   "id": "08cd9fd5",
   "metadata": {},
   "outputs": [],
   "source": [
    "from views import get_df\n",
    "da = get_df()\n"
   ]
  },
  {
   "cell_type": "code",
   "execution_count": null,
   "id": "6cd81779-d6c3-4387-bb91-9a502ec260c8",
   "metadata": {},
   "outputs": [],
   "source": [
    "df = da"
   ]
  },
  {
   "cell_type": "code",
   "execution_count": null,
   "id": "77ba402e-76c7-436a-80dd-b2071d57c6d4",
   "metadata": {},
   "outputs": [],
   "source": [
    "df.tail(1)"
   ]
  },
  {
   "cell_type": "code",
   "execution_count": null,
   "id": "69763caa-faee-4149-968e-e61ea6a2ebc7",
   "metadata": {},
   "outputs": [],
   "source": [
    "entrada = df.tail(1)\n",
    "entrada = entrada.drop(['Status'], axis=1)"
   ]
  },
  {
   "cell_type": "code",
   "execution_count": null,
   "id": "1df46e07",
   "metadata": {},
   "outputs": [],
   "source": []
  },
  {
   "cell_type": "code",
   "execution_count": null,
   "id": "d7a8fd4b",
   "metadata": {},
   "outputs": [],
   "source": [
    "entrada"
   ]
  },
  {
   "cell_type": "code",
   "execution_count": null,
   "id": "aed9f8e7",
   "metadata": {},
   "outputs": [],
   "source": [
    "area = prevNN(entrada)"
   ]
  },
  {
   "cell_type": "code",
   "execution_count": null,
   "id": "ae0a3e07",
   "metadata": {},
   "outputs": [],
   "source": [
    "area"
   ]
  },
  {
   "cell_type": "code",
   "execution_count": null,
   "id": "92303cae-a3a2-41b0-a896-fc49c4ecbdb1",
   "metadata": {},
   "outputs": [],
   "source": [
    "if area == 'CIENCIAS SOCIAIS APLICADAS':\n",
    "    path_model = 'Modelos/CienciasSociaisAplicadas_xgboost.pkl' \n",
    "    encoder = pd.read_csv('Modelos/encoder_CienciasSociaisAplicadas.csv')\n",
    "\n",
    "if area == 'CIENCIAS DA SAUDE':\n",
    "    path_model = 'Modelos/CienciasDaSaude_xgboost.pkl'\n",
    "    encoder = pd.read_csv('Modelos/encoder_CienciasDaSaude.csv')\n",
    "    \n",
    "if area == 'LINGUISTICA, LETRAS E ARTES':\n",
    "    path_model = 'Modelos/LinguisticaLetrasArtes_xgboost.pkl' \n",
    "    encoder = pd.read_csv('Modelos/encoder_LinguisticaLetrasArtes.csv')\n",
    "    \n",
    "if area == 'CIENCIAS EXATAS E DA TERRA':\n",
    "    path_model = 'Modelos/CienciasExatasDaTerra_xgboost.pkl' \n",
    "    encoder = pd.read_csv('Modelos/encoder_CienciasExatasDaTerra.csv')\n",
    "    \n",
    "if area == 'MULTIDISCIPLINAR':\n",
    "    path_model = 'Modelos/Multidisciplinar_xgboost.pkl' \n",
    "    encoder = pd.read_csv('Modelos/encoder_Multidisciplinar.csv')\n",
    "    \n",
    "if area == 'CIENCIAS HUMANAS':\n",
    "    path_model = 'Modelos/CienciasHumanas_xgboost.pkl' \n",
    "    encoder = pd.read_csv('Modelos/encoder_CienciasHumanas.csv')\n",
    "    \n",
    "if area == 'ENGENHARIAS':\n",
    "    path_model = 'Modelos/Engenharias_xgboost.pkl' \n",
    "    encoder = pd.read_csv('Modelos/encoder_Engenharias.csv')\n",
    "    \n",
    "if area == 'CIENCIAS BIOLOGICAS':\n",
    "    path_model = 'Modelos/CienciasBiologicas_xgboost.pkl' \n",
    "    encoder = pd.read_csv('Modelos/encoder_CienciasBiologicas.csv')\n",
    "    \n",
    "if area == 'CIENCIAS AGRARIAS':\n",
    "    path_model = 'Modelos/CienciasAgrarias_xgboost.pkl' \n",
    "    encoder = pd.read_csv('Modelos/encoder_CienciasAgrarias.csv')\n",
    "\n",
    "sub = prevXGB(entrada, path_model)\n",
    "\n",
    "label_encoder = LabelEncoder()\n",
    "y_encoded = label_encoder.fit_transform(encoder)\n",
    "\n",
    "sub = label_encoder.inverse_transform(sub)\n",
    "sub = sub[0]"
   ]
  },
  {
   "cell_type": "code",
   "execution_count": null,
   "id": "3a34dd74",
   "metadata": {},
   "outputs": [],
   "source": [
    "f\"\"\"c(\"{sub}\", \"{area}\")\"\"\""
   ]
  },
  {
   "cell_type": "code",
   "execution_count": null,
   "id": "cf3a9a0e-89fd-411e-9461-911fb822d4df",
   "metadata": {},
   "outputs": [],
   "source": [
    "from sklearn.preprocessing import LabelEncoder\n",
    "from xgboost import XGBClassifier\n",
    "import pandas as pd\n",
    "import warnings\n",
    "import joblib\n",
    "import h2o\n",
    "\n",
    "warnings.simplefilter(\"ignore\")\n",
    "\n",
    "def prevNN(abstract):\n",
    "    localH2o = h2o.init(nthreads = -1)\n",
    "    \n",
    "    Modelo = h2o.load_model('Modelos/DeepLearning_model_R_1670582405235_1')\n",
    "    prevNN = Modelo.predict(h2o.H2OFrame(abstract))\n",
    "    \n",
    "    return prevNN[0, 0]\n",
    "\n",
    "def prevXGB(abstract, path_modelo):\n",
    "    modelo = joblib.load(path_modelo)\n",
    "    prevXGB = modelo.predict(abstract)\n",
    "\n",
    "    return prevXGB\n",
    "\n",
    "def process_rpy2():\n",
    "\n",
    "    da = get_df()\n",
    "    entrada = da\n",
    "    area = prevNN(entrada)\n",
    "    print(area)\n",
    "    \n",
    "    if area == 'CIENCIAS SOCIAIS APLICADAS':\n",
    "    path_model = 'Modelos/CienciasSociaisAplicadas_xgboost.pkl' \n",
    "    encoder = pd.read_csv('Modelos/encoder_CienciasSociaisAplicadas.csv')\n",
    "\n",
    "    if area == 'CIENCIAS DA SAUDE':\n",
    "        path_model = 'Modelos/CienciasDaSaude_xgboost.pkl'\n",
    "        encoder = pd.read_csv('Modelos/encoder_CienciasDaSaude.csv')\n",
    "        \n",
    "    if area == 'LINGUISTICA, LETRAS E ARTES':\n",
    "        path_model = 'Modelos/LinguisticaLetrasArtes_xgboost.pkl' \n",
    "        encoder = pd.read_csv('Modelos/encoder_LinguisticaLetrasArtes.csv')\n",
    "        \n",
    "    if area == 'CIENCIAS EXATAS E DA TERRA':\n",
    "        path_model = 'Modelos/CienciasExatasDaTerra_xgboost.pkl' \n",
    "        encoder = pd.read_csv('Modelos/encoder_CienciasExatasDaTerra.csv')\n",
    "        \n",
    "    if area == 'MULTIDISCIPLINAR':\n",
    "        path_model = 'Modelos/Multidisciplinar_xgboost.pkl' \n",
    "        encoder = pd.read_csv('Modelos/encoder_Multidisciplinar.csv')\n",
    "        \n",
    "    if area == 'CIENCIAS HUMANAS':\n",
    "        path_model = 'Modelos/CienciasHumanas_xgboost.pkl' \n",
    "        encoder = pd.read_csv('Modelos/encoder_CienciasHumanas.csv')\n",
    "        \n",
    "    if area == 'ENGENHARIAS':\n",
    "        path_model = 'Modelos/Engenharias_xgboost.pkl' \n",
    "        encoder = pd.read_csv('Modelos/encoder_Engenharias.csv')\n",
    "        \n",
    "    if area == 'CIENCIAS BIOLOGICAS':\n",
    "        path_model = 'Modelos/CienciasBiologicas_xgboost.pkl' \n",
    "        encoder = pd.read_csv('Modelos/encoder_CienciasBiologicas.csv')\n",
    "        \n",
    "    if area == 'CIENCIAS AGRARIAS':\n",
    "        path_model = 'Modelos/CienciasAgrarias_xgboost.pkl' \n",
    "        encoder = pd.read_csv('Modelos/encoder_CienciasAgrarias.csv')\n",
    "\n",
    "    sub = prevXGB(entrada, path_model)\n",
    "\n",
    "    label_encoder = LabelEncoder()\n",
    "    y_encoded = label_encoder.fit_transform(encoder)\n",
    "\n",
    "    sub = label_encoder.inverse_transform(sub)\n",
    "    sub = sub[0]\n",
    "\n",
    "    print(f\"\"\"c(\"{sub}\", \"{area}\")\"\"\")\n",
    "\n",
    "    return sub\n"
   ]
  }
 ],
 "metadata": {
  "kernelspec": {
   "display_name": "Python 3 (ipykernel)",
   "language": "python",
   "name": "python3"
  },
  "language_info": {
   "codemirror_mode": {
    "name": "ipython",
    "version": 3
   },
   "file_extension": ".py",
   "mimetype": "text/x-python",
   "name": "python",
   "nbconvert_exporter": "python",
   "pygments_lexer": "ipython3",
   "version": "3.10.6"
  }
 },
 "nbformat": 4,
 "nbformat_minor": 5
}
