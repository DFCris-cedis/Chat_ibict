{
 "cells": [
  {
   "cell_type": "code",
   "execution_count": 2,
   "metadata": {},
   "outputs": [
    {
     "name": "stdout",
     "output_type": "stream",
     "text": [
      "entrando\n",
      "['geopolitics', 'political science', 'cold war', 'general partnership', 'test', 'economic history']\n"
     ]
    }
   ],
   "source": [
    "import sys\n",
    "sys.path.append('C:/Users/milen/OneDrive/Documentos/GitHub/Chat_ibict/Progressao')\n",
    "from englishBackend.main import get_remote_works\n",
    "\n",
    "title = 'test'\n",
    "abstract = 'After Russia, the second geopolitical threat which remained was Germany and, as Mackinder had feared ninety years ago, its partnership with Russia. During the Cold War, Kissinger argues, both sides of the Atlantic recognized '\n",
    "\n",
    "result = get_remote_works(title, abstract)\n",
    "\n",
    "print(result)\n"
   ]
  },
  {
   "cell_type": "code",
   "execution_count": null,
   "metadata": {},
   "outputs": [],
   "source": []
  },
  {
   "cell_type": "code",
   "execution_count": 5,
   "metadata": {},
   "outputs": [
    {
     "name": "stdout",
     "output_type": "stream",
     "text": [
      "entrando\n",
      "[{\"tags\": [\"geopolitics\", \"political science\", \"cold war\", \"test\", \"general partnership\", \"economic history\"], \"scores\": [0.6567909121513367, 0.5890377759933472, 0.49525323510169983, 0.49318569898605347, 0.46998918056488037, 0.42824018001556396], \"tag_ids\": [201960208, 17744445, 2986359222, 2777267654, 71750763, 6303427]}]\n",
      "['geopolitics', 'political science', 'cold war', 'test', 'general partnership', 'economic history']\n"
     ]
    }
   ],
   "source": [
    "from typing import Union\n",
    "import json\n",
    "from fastapi import FastAPI\n",
    "import pandas as pd\n",
    "import json\n",
    "import requests\n",
    "import json\n",
    "from pydantic import BaseModel\n",
    "import paramiko\n",
    "import boto3\n",
    "\n",
    "def get_remote_works(title, abstract):\n",
    "\n",
    "    print('entrando')\n",
    "\n",
    "    payload_dict = {\"title\":[title], \"abstract\": abstract, \"inverted_abstract\":False, \"journal\":\"\", \"doc_type\":\"\"}\n",
    "    r2 = requests.post('http://15.228.87.227:8080/invocations', json=payload_dict)\n",
    "    tags = json.loads(r2.text)[0]['tags']\n",
    "    print(r2.text)\n",
    "    return tags\n",
    "\n",
    "title = 'test'\n",
    "abstract = 'After Russia, the second geopolitical threat which remained was Germany and, as Mackinder had feared ninety years ago, its partnership with Russia. During the Cold War, Kissinger argues, both sides of the Atlantic recognized '\n",
    "\n",
    "result = get_remote_works(title, abstract)\n",
    "print(result)"
   ]
  },
  {
   "cell_type": "markdown",
   "metadata": {},
   "source": [
    "201960208"
   ]
  },
  {
   "cell_type": "code",
   "execution_count": null,
   "metadata": {},
   "outputs": [],
   "source": [
    "https://api.openalex.org/concepts/C71924100"
   ]
  }
 ],
 "metadata": {
  "kernelspec": {
   "display_name": "Python 3",
   "language": "python",
   "name": "python3"
  },
  "language_info": {
   "codemirror_mode": {
    "name": "ipython",
    "version": 3
   },
   "file_extension": ".py",
   "mimetype": "text/x-python",
   "name": "python",
   "nbconvert_exporter": "python",
   "pygments_lexer": "ipython3",
   "version": "3.10.6"
  },
  "orig_nbformat": 4
 },
 "nbformat": 4,
 "nbformat_minor": 2
}
